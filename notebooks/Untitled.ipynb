{
 "cells": [
  {
   "cell_type": "code",
   "execution_count": 14,
   "id": "650cc9fc",
   "metadata": {},
   "outputs": [],
   "source": [
    "import sys\n",
    "sys.path.append('../')"
   ]
  },
  {
   "cell_type": "code",
   "execution_count": 10,
   "id": "59ea6882",
   "metadata": {},
   "outputs": [
    {
     "data": {
      "text/plain": [
       "'/Users/srs/Projects/udacity/deploy_ml_final'"
      ]
     },
     "execution_count": 10,
     "metadata": {},
     "output_type": "execute_result"
    }
   ],
   "source": [
    "import sys, os\n",
    "os.path.abspath(os.path.join('..'))"
   ]
  },
  {
   "cell_type": "code",
   "execution_count": 17,
   "id": "b0356d7e",
   "metadata": {},
   "outputs": [
    {
     "data": {
      "text/plain": [
       "'src/data_processing/docker_ecr.sh'"
      ]
     },
     "execution_count": 17,
     "metadata": {},
     "output_type": "execute_result"
    }
   ],
   "source": [
    "from src.settings import Settings\n",
    "Settings = Settings()\n",
    "Settings.DATA_PROCESSING_DOCKER"
   ]
  },
  {
   "cell_type": "code",
   "execution_count": 7,
   "id": "84a1d879",
   "metadata": {},
   "outputs": [
    {
     "ename": "ModuleNotFoundError",
     "evalue": "No module named 'environ'",
     "output_type": "error",
     "traceback": [
      "\u001b[0;31m---------------------------------------------------------------------------\u001b[0m",
      "\u001b[0;31mModuleNotFoundError\u001b[0m                       Traceback (most recent call last)",
      "Input \u001b[0;32mIn [7]\u001b[0m, in \u001b[0;36m<cell line: 3>\u001b[0;34m()\u001b[0m\n\u001b[1;32m      1\u001b[0m \u001b[38;5;28;01mimport\u001b[39;00m \u001b[38;5;21;01msys\u001b[39;00m\n\u001b[1;32m      2\u001b[0m \u001b[38;5;28;01mimport\u001b[39;00m \u001b[38;5;21;01mlogging\u001b[39;00m\n\u001b[0;32m----> 3\u001b[0m \u001b[38;5;28;01mimport\u001b[39;00m \u001b[38;5;21;01menviron\u001b[39;00m\n",
      "\u001b[0;31mModuleNotFoundError\u001b[0m: No module named 'environ'"
     ]
    }
   ],
   "source": [
    "import sys\n",
    "import logging\n",
    "import environ"
   ]
  },
  {
   "cell_type": "code",
   "execution_count": 8,
   "id": "ab7b7694",
   "metadata": {},
   "outputs": [
    {
     "ename": "NameError",
     "evalue": "name 'environ' is not defined",
     "output_type": "error",
     "traceback": [
      "\u001b[0;31m---------------------------------------------------------------------------\u001b[0m",
      "\u001b[0;31mNameError\u001b[0m                                 Traceback (most recent call last)",
      "Input \u001b[0;32mIn [8]\u001b[0m, in \u001b[0;36m<cell line: 1>\u001b[0;34m()\u001b[0m\n\u001b[0;32m----> 1\u001b[0m env \u001b[38;5;241m=\u001b[39m \u001b[43menviron\u001b[49m\u001b[38;5;241m.\u001b[39mEnv(\n\u001b[1;32m      2\u001b[0m     DEBUG\u001b[38;5;241m=\u001b[39m(\u001b[38;5;28mbool\u001b[39m, \u001b[38;5;28;01mFalse\u001b[39;00m)\n\u001b[1;32m      3\u001b[0m )\n\u001b[1;32m      4\u001b[0m environ\u001b[38;5;241m.\u001b[39mEnv\u001b[38;5;241m.\u001b[39mread_env()\n\u001b[1;32m      6\u001b[0m \u001b[38;5;28;01mdef\u001b[39;00m \u001b[38;5;21mget_init_data\u001b[39m():\n",
      "\u001b[0;31mNameError\u001b[0m: name 'environ' is not defined"
     ]
    }
   ],
   "source": [
    "env = environ.Env(\n",
    "    DEBUG=(bool, False)\n",
    ")\n",
    "environ.Env.read_env()\n",
    "\n",
    "def get_init_data():\n",
    "    \"\"\"\n",
    "    Function to return all the init data\n",
    "    Outputs:\n",
    "        * account_id: string\n",
    "            aws account ID\n",
    "        * region: string\n",
    "            region to use\n",
    "        * sagemaker_session: sagemekr.Session\n",
    "\n",
    "        * branch_name: string\n",
    "            branch name\n",
    "    \"\"\"\n",
    "    bucket_name = env('BUCKET_NAME')\n",
    "    account_id = boto3.client('sts').get_caller_identity().get('Account')\n",
    "    region = boto3.Session().region_name\n",
    "    sagemaker_session = get_session(region, bucket_name)\n",
    "    branch_name = sys.argv[1]\n",
    "    role = get_secret('MLOps', 'EXECUTION_ROLE')\n",
    "    if branch_name in ['develop', 'staging', 'production']:\n",
    "        s3_prefix = branch_name\n",
    "    else:\n",
    "        s3_prefix = f'test/{branch_name}'\n",
    "    return account_id, region, sagemaker_session, branch_name, s3_prefix, bucket_name, role"
   ]
  },
  {
   "cell_type": "code",
   "execution_count": 1,
   "id": "c5787f11",
   "metadata": {},
   "outputs": [],
   "source": [
    "import boto3\n",
    "account_id = boto3.client('sts').get_caller_identity().get('Account')\n",
    "region = boto3.Session()"
   ]
  },
  {
   "cell_type": "code",
   "execution_count": 2,
   "id": "a929ec31",
   "metadata": {},
   "outputs": [
    {
     "data": {
      "text/plain": [
       "Session(region_name='us-east-1')"
      ]
     },
     "execution_count": 2,
     "metadata": {},
     "output_type": "execute_result"
    }
   ],
   "source": [
    "region"
   ]
  },
  {
   "cell_type": "code",
   "execution_count": null,
   "id": "d576d047",
   "metadata": {},
   "outputs": [],
   "source": []
  }
 ],
 "metadata": {
  "kernelspec": {
   "display_name": "deploy_ml_final",
   "language": "python",
   "name": "venv"
  },
  "language_info": {
   "codemirror_mode": {
    "name": "ipython",
    "version": 3
   },
   "file_extension": ".py",
   "mimetype": "text/x-python",
   "name": "python",
   "nbconvert_exporter": "python",
   "pygments_lexer": "ipython3",
   "version": "3.8.9"
  }
 },
 "nbformat": 4,
 "nbformat_minor": 5
}
